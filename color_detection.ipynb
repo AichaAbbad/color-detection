{
  "nbformat": 4,
  "nbformat_minor": 0,
  "metadata": {
    "colab": {
      "name": "color detection.ipynb",
      "provenance": [],
      "authorship_tag": "ABX9TyO5nPDg8+Pzbi6JSN39+OPc",
      "include_colab_link": true
    },
    "kernelspec": {
      "name": "python3",
      "display_name": "Python 3"
    }
  },
  "cells": [
    {
      "cell_type": "markdown",
      "metadata": {
        "id": "view-in-github",
        "colab_type": "text"
      },
      "source": [
        "<a href=\"https://colab.research.google.com/github/AichaAbbad/color-detection/blob/master/color_detection.ipynb\" target=\"_parent\"><img src=\"https://colab.research.google.com/assets/colab-badge.svg\" alt=\"Open In Colab\"/></a>"
      ]
    },
    {
      "cell_type": "code",
      "metadata": {
        "id": "G0Yw4L7IUCEO",
        "colab_type": "code",
        "colab": {}
      },
      "source": [
        "import numpy as np\n",
        "import cv2\n",
        "\n",
        "img = cv2.imread (\"color-detection/shapes.png\",1)\n",
        "\n",
        "hsv_img = cv2.cvtColor(img,cv2.COLOR_BGR2HSV)\n",
        "\n",
        "# Read color\n",
        "low_red = np.array([161, 155, 84])\n",
        "hight_red = np.array([179, 255, 255])\n",
        "\n",
        "mask = cv2.inRange(hsv_img, low_red, hight_red)\n",
        "red = cv2.bitwise_and(img, img, mask=mask)\n",
        "\n",
        "cv2.imshow(\"image\",img)\n",
        "cv2.imshow(\"mask\", mask)  # display the color on white\n",
        "cv2.imshow(\" red mask\", red)  # display the color on white\n",
        "\n",
        "if cv2.waitKey(0) &0xFF == ord('q'):\n",
        "    cv2.destroyAllWindows()\n"
      ],
      "execution_count": 0,
      "outputs": []
    }
  ]
}